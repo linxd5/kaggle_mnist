{
 "cells": [
  {
   "cell_type": "code",
   "execution_count": 6,
   "metadata": {
    "collapsed": true
   },
   "outputs": [],
   "source": [
    "import pandas as pd\n",
    "import numpy as np\n",
    "\n",
    "import matplotlib.pyplot as plt\n",
    "%matplotlib inline\n",
    "\n",
    "from sklearn.model_selection import train_test_split"
   ]
  },
  {
   "cell_type": "code",
   "execution_count": 7,
   "metadata": {
    "collapsed": true
   },
   "outputs": [],
   "source": [
    "train = pd.read_csv('./train.csv').values\n",
    "test = pd.read_csv('./test.csv').values"
   ]
  },
  {
   "cell_type": "code",
   "execution_count": 8,
   "metadata": {
    "collapsed": true
   },
   "outputs": [],
   "source": [
    "import torch\n",
    "import torch.nn as nn\n",
    "import torch.nn.functional as F\n",
    "from torch.autograd import Variable\n",
    "from torch.utils.data import DataLoader, Dataset\n",
    "\n",
    "\n",
    "from imgaug import augmenters as iaa"
   ]
  },
  {
   "cell_type": "code",
   "execution_count": 9,
   "metadata": {
    "collapsed": true
   },
   "outputs": [],
   "source": [
    "sometimes = lambda aug: iaa.Sometimes(0.001, aug)\n",
    "\n",
    "seq = iaa.Sequential([\n",
    "    sometimes(iaa.Affine(rotate=(-30, 30))),\n",
    "])\n"
   ]
  },
  {
   "cell_type": "code",
   "execution_count": 10,
   "metadata": {
    "collapsed": true
   },
   "outputs": [],
   "source": [
    "class Digit(nn.Module):\n",
    "    def __init__(self):\n",
    "        super(Digit, self).__init__()\n",
    "        self.conv11 = nn.Conv2d(1, 64, 3, padding=1)\n",
    "        self.conv12 = nn.Conv2d(64, 64, 3, padding=1)\n",
    "        self.bn11 = nn.BatchNorm2d(64)\n",
    "        self.bn12 = nn.BatchNorm2d(64)\n",
    "        self.pool1 = nn.MaxPool2d(2, stride=2)\n",
    "        \n",
    "        self.conv21 = nn.Conv2d(64, 128, 3, padding=1)\n",
    "        self.conv22 = nn.Conv2d(128, 128, 3, padding=1)\n",
    "        self.bn21 = nn.BatchNorm2d(128)\n",
    "        self.bn22 = nn.BatchNorm2d(128)\n",
    "        self.pool2 = nn.MaxPool2d(2, stride=2)\n",
    "        \n",
    "        self.conv31 = nn.Conv2d(128, 256, 3, padding=1)\n",
    "        self.conv32 = nn.Conv2d(256, 256, 3, padding=1)\n",
    "        self.bn31 = nn.BatchNorm2d(256)\n",
    "        self.bn32 = nn.BatchNorm2d(256)\n",
    "        self.pool3 = nn.MaxPool2d(2, stride=2)\n",
    "        \n",
    "        self.pool4 = nn.AvgPool2d(3)\n",
    "        self.fc1 = nn.Linear(256, 10)\n",
    "        \n",
    "        \n",
    "    def forward(self, images):\n",
    "        output = F.relu(self.bn11(self.conv11(images)))\n",
    "        output = F.relu(self.bn12(self.conv12(output)))\n",
    "        output = self.pool1(output)\n",
    "        output = F.relu(self.bn21(self.conv21(output)))\n",
    "        output = F.relu(self.bn22(self.conv22(output)))\n",
    "        output = self.pool2(output)\n",
    "        output = F.relu(self.bn31(self.conv31(output)))\n",
    "        output = F.relu(self.bn32(self.conv32(output)))\n",
    "        output = self.pool3(output)\n",
    "        output = self.pool4(output).view(-1, 256)\n",
    "        output = F.dropout(output)\n",
    "        output = self.fc1(output)\n",
    "        \n",
    "        \n",
    "        return F.log_softmax(output)\n",
    "        "
   ]
  },
  {
   "cell_type": "code",
   "execution_count": 11,
   "metadata": {
    "collapsed": true
   },
   "outputs": [],
   "source": [
    "class DigitDataset(Dataset):\n",
    "    def __init__(self, index):\n",
    "        self.train = train[index]\n",
    "    \n",
    "    def __getitem__(self, index):\n",
    "        features = self.train[index, 1:].reshape(1,28,28).astype('float32')\n",
    "        features = seq.augment_image(features)\n",
    "        target = self.train[index, 0]\n",
    "        return features, target\n",
    "    \n",
    "    def __len__(self):\n",
    "        return self.train.shape[0]\n",
    "        "
   ]
  },
  {
   "cell_type": "code",
   "execution_count": 12,
   "metadata": {},
   "outputs": [
    {
     "name": "stderr",
     "output_type": "stream",
     "text": [
      "/home/lindayong/kaggle/titanic/venv/lib/python3.6/site-packages/sklearn/cross_validation.py:44: DeprecationWarning: This module was deprecated in version 0.18 in favor of the model_selection module into which all the refactored classes and functions are moved. Also note that the interface of the new CV iterators are different from that of this module. This module will be removed in 0.20.\n",
      "  \"This module will be removed in 0.20.\", DeprecationWarning)\n"
     ]
    }
   ],
   "source": [
    "from sklearn.cross_validation import KFold\n",
    "from sklearn.metrics import accuracy_score"
   ]
  },
  {
   "cell_type": "code",
   "execution_count": 13,
   "metadata": {
    "collapsed": true
   },
   "outputs": [],
   "source": [
    "ntrain = train.shape[0]\n",
    "ntest = test.shape[0]\n",
    "SEED = 0\n",
    "NFOLDS = 5\n",
    "kf = KFold(ntrain, n_folds=NFOLDS, shuffle=True, random_state=SEED)"
   ]
  },
  {
   "cell_type": "code",
   "execution_count": 14,
   "metadata": {
    "collapsed": true
   },
   "outputs": [],
   "source": [
    "torch.cuda.set_device(1)"
   ]
  },
  {
   "cell_type": "code",
   "execution_count": null,
   "metadata": {
    "collapsed": true
   },
   "outputs": [],
   "source": [
    "def get_oof_nn():\n",
    "    oof_train = np.zeros((ntrain,))\n",
    "    oof_test = torch.zeros((ntest))\n",
    "    oof_test_skf = torch.zeros((NFOLDS, ntest, 10))\n",
    "\n",
    "    outcomes = []\n",
    "    \n",
    "    print('clf: nn_titan')\n",
    "    \n",
    "    for i, (train_index, test_index) in enumerate(kf):\n",
    "        train_DDS = DigitDataset(train_index)\n",
    "        train_iter = DataLoader(train_DDS, batch_size=128, shuffle=True, num_workers=12)\n",
    "        test_DDS = DigitDataset(test_index)\n",
    "        test_iter = DataLoader(test_DDS, batch_size=128, shuffle=True, num_workers=12)\n",
    "        \n",
    "        digit = Digit()\n",
    "        digit = digit.cuda()\n",
    "\n",
    "        loss_fn = nn.NLLLoss()\n",
    "        loss_fn = loss_fn.cuda()\n",
    "\n",
    "        optimizer = torch.optim.Adam(digit.parameters(), lr=1e-3)\n",
    "        \n",
    "        best_val, best_step = 0.0, 0\n",
    "        \n",
    "\n",
    "        for epoch in range(1000):\n",
    "        \n",
    "            for k, (features, targets) in enumerate(train_iter):\n",
    "                digit.train()\n",
    "                pred_train = digit(Variable(features.cuda()))\n",
    "                y_train = Variable(targets.cuda())\n",
    "                loss = loss_fn(pred_train, y_train)\n",
    "\n",
    "                optimizer.zero_grad()\n",
    "                loss.backward()\n",
    "                optimizer.step()\n",
    "        \n",
    "\n",
    "            val_accu = []\n",
    "\n",
    "            for k, (features, targets) in enumerate(test_iter):\n",
    "                digit.eval()\n",
    "                pred_val = digit(Variable(features.cuda())).data.max(1)[1].view(-1)\n",
    "                pred_val = pred_val.cpu().numpy()\n",
    "                targets = targets.numpy()\n",
    "                \n",
    "                accuracy = accuracy_score(targets, pred_val)\n",
    "                \n",
    "                val_accu.append(accuracy)\n",
    "                \n",
    "\n",
    "            val_accu = np.asanyarray(val_accu).mean()\n",
    "            print('epoch: ', epoch , '\\t best_accu: ', best_val)\n",
    "            \n",
    "            if (val_accu>best_val):\n",
    "                best_val = val_accu\n",
    "                best_step = epoch\n",
    "                torch.save(digit.state_dict(), 'digit_model1.pkl')\n",
    "\n",
    "            if (epoch-best_step >= 10):\n",
    "                print('best_val_%d: %.5f' %(i, best_val))\n",
    "                outcomes.append(best_val)\n",
    "                break\n",
    "        \n",
    "      \n",
    "        test_iter = DataLoader(test, batch_size=128)\n",
    "        digit.load_state_dict(torch.load('digit_model1.pkl'))\n",
    "        digit.eval()\n",
    "        pred_val_arr = []\n",
    "        for k, features in enumerate(test_iter):\n",
    "            features = features.float().view(-1, 1, 28, 28)\n",
    "            pred_val = digit(Variable(features.cuda()))\n",
    "            pred_val = pred_val.data.cpu()\n",
    "            pred_val_arr.append(pred_val)\n",
    "        \n",
    "        oof_test_skf[i, :] = torch.cat(pred_val_arr)\n",
    "\n",
    "    print(oof_test_skf.mean(dim=0).max(2)[1].size())\n",
    "    oof_test[:] = oof_test_skf.mean(dim=0).max(2)[1].view(-1)\n",
    "    \n",
    "    oof_test = oof_test.numpy()\n",
    "    \n",
    "    print('oof_test: ', oof_test.shape)\n",
    "       \n",
    "    mean_outcome = np.mean(outcomes)\n",
    "    print(\"Mean Accuracy: {0}\".format(mean_outcome)) \n",
    "    \n",
    "    return oof_test\n",
    "    "
   ]
  },
  {
   "cell_type": "code",
   "execution_count": null,
   "metadata": {
    "scrolled": false
   },
   "outputs": [
    {
     "name": "stdout",
     "output_type": "stream",
     "text": [
      "clf: nn_titan\n",
      "epoch:  0 \t best_accu:  0.0\n",
      "epoch:  1 \t best_accu:  0.980918560606\n",
      "epoch:  2 \t best_accu:  0.988565340909\n",
      "epoch:  3 \t best_accu:  0.988565340909\n",
      "epoch:  4 \t best_accu:  0.988565340909\n",
      "epoch:  5 \t best_accu:  0.989464962121\n",
      "epoch:  6 \t best_accu:  0.993016098485\n"
     ]
    }
   ],
   "source": [
    "oof_test = get_oof_nn()"
   ]
  },
  {
   "cell_type": "code",
   "execution_count": 12,
   "metadata": {
    "collapsed": true
   },
   "outputs": [],
   "source": [
    "oof_test = oof_test.astype('int')"
   ]
  },
  {
   "cell_type": "code",
   "execution_count": 13,
   "metadata": {
    "collapsed": true
   },
   "outputs": [],
   "source": [
    "submissions=pd.DataFrame({\"ImageId\": list(range(1,len(oof_test)+1)),\n",
    "                         \"Label\": oof_test})\n",
    "submissions.to_csv(\"DR.csv\", index=False, header=True)"
   ]
  },
  {
   "cell_type": "code",
   "execution_count": null,
   "metadata": {
    "collapsed": true
   },
   "outputs": [],
   "source": []
  },
  {
   "cell_type": "code",
   "execution_count": null,
   "metadata": {
    "collapsed": true
   },
   "outputs": [],
   "source": []
  }
 ],
 "metadata": {
  "kernelspec": {
   "display_name": "Python 3",
   "language": "python",
   "name": "python3"
  },
  "language_info": {
   "codemirror_mode": {
    "name": "ipython",
    "version": 3
   },
   "file_extension": ".py",
   "mimetype": "text/x-python",
   "name": "python",
   "nbconvert_exporter": "python",
   "pygments_lexer": "ipython3",
   "version": "3.6.1"
  }
 },
 "nbformat": 4,
 "nbformat_minor": 2
}
